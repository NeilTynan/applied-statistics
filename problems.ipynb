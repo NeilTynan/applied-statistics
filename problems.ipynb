{
 "cells": [
  {
   "cell_type": "markdown",
   "id": "54da611a",
   "metadata": {},
   "source": [
    "# **Applied Statistics Assessment Notebook - Problems**"
   ]
  },
  {
   "cell_type": "markdown",
   "id": "55ae5cc3",
   "metadata": {},
   "source": [
    "## Import Libraries\n",
    "___"
   ]
  },
  {
   "cell_type": "code",
   "execution_count": 458,
   "id": "4059c88a",
   "metadata": {},
   "outputs": [],
   "source": [
    "# Libraries\n",
    "\n",
    "import math # mathmatical functions\n",
    "import itertools # permutations and combinations\n",
    "import random # random selections\n",
    "import numpy as np # numerical structures and operations\n",
    "import matplotlib.pyplot as plt # plotting\n",
    "from tabulate import tabulate # table formatting"
   ]
  },
  {
   "cell_type": "markdown",
   "id": "715c41bd",
   "metadata": {},
   "source": [
    "## **Problem 1: Extending the Lady Tasting Tea**"
   ]
  },
  {
   "cell_type": "markdown",
   "id": "874ec867",
   "metadata": {},
   "source": [
    "___\n",
    "### **Description of the problem**\n",
    "___\n",
    "\n",
    "The original experiment has 8 cups: 4 tea-first and 4 milk-first. Suppose we prepare 12 cups: 8 tea-first and 4 milk-first. A participant claims they can tell which was poured first.\n",
    "\n",
    "Simulate this experiment using numpy by randomly shuffling the cups many times and calculating the probability of the \n",
    "cipant correctly identifying all cups by chance. Compare your result with the original 8-cup experiment.\n",
    "\n",
    "In your notebook, explain your simulation process clearly, report and interpret the estimated probability, and discuss whether, based on this probability, you would consider extending or relaxing the p-value threshold compared to the original design."
   ]
  },
  {
   "cell_type": "markdown",
   "id": "d8c4e098",
   "metadata": {},
   "source": [
    "---\n",
    "### **Answering the Problem**\n",
    "___\n",
    "\n",
    "In order to answer this problem, there are three things we need to address:\n",
    "\n",
    "1. The estimated probability of the original 8-cup experiment\n",
    "2. The estimated probability of the new 12-cup experiment\n",
    "3. How the two compare with one another"
   ]
  },
  {
   "cell_type": "markdown",
   "id": "5b86b78f",
   "metadata": {},
   "source": [
    "---\n",
    "#### 1. Running the Original Experiment\n",
    "---"
   ]
  },
  {
   "cell_type": "markdown",
   "id": "6e857660",
   "metadata": {},
   "source": [
    "Let's start off by re-running the original experiment and determining it's probability. First we need to flag the number of cups involved in the experiment."
   ]
  },
  {
   "cell_type": "code",
   "execution_count": 459,
   "id": "609cbeb2",
   "metadata": {},
   "outputs": [],
   "source": [
    "# Total number of cups\n",
    "no_cups  = 8\n",
    "\n",
    "# Number of cups with tea-first\n",
    "cups_tea = 4\n",
    "\n",
    "# Number of cups with tea-first\n",
    "cups_milk = 4\n"
   ]
  },
  {
   "cell_type": "markdown",
   "id": "2081a029",
   "metadata": {},
   "source": [
    "Next we need label the various types of cups, so that we can determine the overall number of ways four cups (at this stage any four cups) could be selected out of that total."
   ]
  },
  {
   "cell_type": "code",
   "execution_count": 460,
   "id": "65233ee7",
   "metadata": {},
   "outputs": [
    {
     "name": "stdout",
     "output_type": "stream",
     "text": [
      "The maximum number of cup combinations is 70\n"
     ]
    }
   ],
   "source": [
    "# Label the cups\n",
    "labels = list(range(no_cups))\n",
    "\n",
    "# Show the different ways of selecting cups_milk out of no_cups\n",
    "combs = list(itertools.combinations(labels, cups_milk))\n",
    "print(\"The maximum number of cup combinations is\",len(combs))"
   ]
  },
  {
   "cell_type": "markdown",
   "id": "3855c2fa",
   "metadata": {},
   "source": [
    "Now we want to label four specic cups as the cups which had milk put in them first."
   ]
  },
  {
   "cell_type": "code",
   "execution_count": 461,
   "id": "21413956",
   "metadata": {},
   "outputs": [
    {
     "data": {
      "text/plain": [
       "{0, 2, 3, 4}"
      ]
     },
     "execution_count": 461,
     "metadata": {},
     "output_type": "execute_result"
    }
   ],
   "source": [
    "# Select four cups at random to put milk in and then sort those labels so that they mirror the iterated data in combs\n",
    "labels_milk = random.sample(labels, 4)\n",
    "labels_milk.sort()\n",
    "set(labels_milk)"
   ]
  },
  {
   "cell_type": "markdown",
   "id": "1c07e845",
   "metadata": {},
   "source": [
    "With the milk cups labelled, we can now start to look at how often these cups will be selected at random. To do this, we look at every single combination of cup selections and identify which of those include cups labelled as milk first cups and how many milk first cups they include. "
   ]
  },
  {
   "cell_type": "code",
   "execution_count": 462,
   "id": "8b46bf1e",
   "metadata": {},
   "outputs": [],
   "source": [
    "# Create a list to store the overlap between each element of combs and labels_milk.\n",
    "no_overlaps = []\n",
    "\n",
    "# loop through combinations\n",
    "for comb in combs:\n",
    "    s1 = set(comb)\n",
    "    s2 = set(labels_milk)\n",
    "    # Figure out where they overlap\n",
    "    overlap = s1.intersection(s2)\n",
    "    #Append overlap to no_overlaps\n",
    "    no_overlaps.append(len(overlap))\n",
    "\n",
    "# Count the number of times each overlap occurs.\n",
    "counts= np.unique(no_overlaps, return_counts=True)"
   ]
  },
  {
   "cell_type": "markdown",
   "id": "a74be14e",
   "metadata": {},
   "source": [
    "We can now chart the results of the above analysis to see the breakdown of the the amount of milk first cups in each possible combination of cups (e.g. of the 70 possible cup combinations, how many of these combinations include 0,1,2,3 or 4 milk first cups?)."
   ]
  },
  {
   "cell_type": "code",
   "execution_count": 463,
   "id": "6310b89e",
   "metadata": {},
   "outputs": [
    {
     "data": {
      "image/png": "[encoded data removed]",
      "text/plain": [
       "<Figure size 600x400 with 1 Axes>"
      ]
     },
     "metadata": {},
     "output_type": "display_data"
    }
   ],
   "source": [
    "# Chart for the orginal experiment\n",
    "fig, ax = plt.subplots(figsize = (6,4))\n",
    "ax.bar(counts[0],counts[1]);"
   ]
  },
  {
   "cell_type": "code",
   "execution_count": 464,
   "id": "41be483b",
   "metadata": {},
   "outputs": [
    {
     "name": "stdout",
     "output_type": "stream",
     "text": [
      "+-----------------+-------------+\n",
      "|   Overlap Count |   Frequency |\n",
      "+=================+=============+\n",
      "|               0 |           1 |\n",
      "+-----------------+-------------+\n",
      "|               1 |          16 |\n",
      "+-----------------+-------------+\n",
      "|               2 |          36 |\n",
      "+-----------------+-------------+\n",
      "|               3 |          16 |\n",
      "+-----------------+-------------+\n",
      "|               4 |           1 |\n",
      "+-----------------+-------------+\n"
     ]
    }
   ],
   "source": [
    "# Prepare data for tabulation\n",
    "data = list(zip(*counts))\n",
    "headers = [\"Overlap Count\", \"Frequency\"]\n",
    "print(tabulate(data, headers=headers,tablefmt=\"grid\")) "
   ]
  },
  {
   "cell_type": "markdown",
   "id": "0b6761b1",
   "metadata": {},
   "source": [
    "Finally, lets work out the probability for how likely it is, given the number of combinations, that the participant will randomly select all the correct milk first cups and, also, how likely it is that they will select more than half milk first cups."
   ]
  },
  {
   "cell_type": "code",
   "execution_count": 465,
   "id": "770b8a49",
   "metadata": {},
   "outputs": [
    {
     "name": "stdout",
     "output_type": "stream",
     "text": [
      "The probability of the participant correctly identifying all cups by chance is 1.43%\n",
      "The probability of the participant selecting two or more cups by chance is 75.71%\n"
     ]
    }
   ],
   "source": [
    "# Number of times where the participant selects all the correct cups_milk\n",
    "overlap_4 = dict(data).get(4, 0)\n",
    "overlap_3 = dict(data).get(3, 0)\n",
    "overlap_2 = dict(data).get(2, 0)\n",
    "\n",
    "# Calculate the likeilhood of this happening\n",
    "likelihood = overlap_4 / len(combs)\n",
    "likelihood50 = (overlap_4 + overlap_3 +overlap_2) / len(combs)\n",
    "\n",
    "print(f\"The probability of the participant correctly identifying all cups by chance is {likelihood*100:.2f}%\")\n",
    "print(f\"The probability of the participant selecting two or more cups by chance is {likelihood50*100:.2f}%\")"
   ]
  },
  {
   "cell_type": "markdown",
   "id": "cc2c9205",
   "metadata": {},
   "source": [
    "So, we can see that it is highly unlikely that the participant will select all four milk first cups correctly at random but there is a very good chance that they will select more than two correct cups, even if selecting at random."
   ]
  },
  {
   "cell_type": "markdown",
   "id": "20093af1",
   "metadata": {},
   "source": [
    "---\n",
    "### 2. Running the New 12-cup Experiment\n",
    "---"
   ]
  },
  {
   "cell_type": "markdown",
   "id": "520563cb",
   "metadata": {},
   "source": [
    "So, for the next part we are going to re-run everything we have done above. However, this time we will be changing the total number of cups to 12 and the number of tea first cups to 8 (the number of milk first cups will remain the same)."
   ]
  },
  {
   "cell_type": "code",
   "execution_count": 466,
   "id": "7f62e918",
   "metadata": {},
   "outputs": [],
   "source": [
    "no_cups  = 12\n",
    "cups_tea = 8\n",
    "cups_milk = 4"
   ]
  },
  {
   "cell_type": "code",
   "execution_count": 467,
   "id": "b4166e89",
   "metadata": {},
   "outputs": [
    {
     "name": "stdout",
     "output_type": "stream",
     "text": [
      "The maximum number of cup combinations is 495\n"
     ]
    }
   ],
   "source": [
    "labels = list(range(no_cups))\n",
    "combs = list(itertools.combinations(labels, cups_milk))\n",
    "print(\"The maximum number of cup combinations is\",len(combs))"
   ]
  },
  {
   "cell_type": "code",
   "execution_count": 468,
   "id": "4a75b530",
   "metadata": {},
   "outputs": [
    {
     "data": {
      "text/plain": [
       "{1, 3, 4, 7}"
      ]
     },
     "execution_count": 468,
     "metadata": {},
     "output_type": "execute_result"
    }
   ],
   "source": [
    "labels_milk = random.sample(labels, 4)\n",
    "labels_milk.sort()\n",
    "set(labels_milk)"
   ]
  },
  {
   "cell_type": "code",
   "execution_count": 469,
   "id": "34fe334e",
   "metadata": {},
   "outputs": [],
   "source": [
    "no_overlaps = []\n",
    "\n",
    "for comb in combs:\n",
    "    s1 = set(comb)\n",
    "    s2 = set(labels_milk)\n",
    "    overlap = s1.intersection(s2)\n",
    "    no_overlaps.append(len(overlap))\n",
    "\n",
    "counts= np.unique(no_overlaps, return_counts=True)"
   ]
  },
  {
   "cell_type": "code",
   "execution_count": 470,
   "id": "64168784",
   "metadata": {},
   "outputs": [
    {
     "data": {
      "image/png": "[encoded data removed]",
      "text/plain": [
       "<Figure size 600x400 with 1 Axes>"
      ]
     },
     "metadata": {},
     "output_type": "display_data"
    }
   ],
   "source": [
    "# Chart for the updated experiment\n",
    "fig, ax = plt.subplots(figsize = (6,4))\n",
    "ax.bar(counts[0],counts[1]);"
   ]
  },
  {
   "cell_type": "code",
   "execution_count": 471,
   "id": "be7046bc",
   "metadata": {},
   "outputs": [
    {
     "name": "stdout",
     "output_type": "stream",
     "text": [
      "+-----------------+-------------+\n",
      "|   Overlap Count |   Frequency |\n",
      "+=================+=============+\n",
      "|               0 |          70 |\n",
      "+-----------------+-------------+\n",
      "|               1 |         224 |\n",
      "+-----------------+-------------+\n",
      "|               2 |         168 |\n",
      "+-----------------+-------------+\n",
      "|               3 |          32 |\n",
      "+-----------------+-------------+\n",
      "|               4 |           1 |\n",
      "+-----------------+-------------+\n"
     ]
    }
   ],
   "source": [
    "data = list(zip(*counts))\n",
    "headers = [\"Overlap Count\", \"Frequency\"]\n",
    "print(tabulate(data, headers=headers, tablefmt=\"grid\"))"
   ]
  },
  {
   "cell_type": "code",
   "execution_count": 472,
   "id": "6402aaf9",
   "metadata": {},
   "outputs": [
    {
     "name": "stdout",
     "output_type": "stream",
     "text": [
      "The probability of the participant correctly identifying all cups by chance is 0.20%\n",
      "The probability of the participant selecting two or more cups by chance is 40.61%\n"
     ]
    }
   ],
   "source": [
    "# Number of times where the participant selects all the correct cups_milk\n",
    "overlap_4 = dict(data).get(4, 0)\n",
    "overlap_3 = dict(data).get(3, 0)\n",
    "overlap_2 = dict(data).get(2, 0)\n",
    "\n",
    "# Calculate the likeilhood of this happening\n",
    "likelihood = overlap_4 / len(combs)\n",
    "likelihood50 = (overlap_4 + overlap_3 +overlap_2) / len(combs)\n",
    "\n",
    "print(f\"The probability of the participant correctly identifying all cups by chance is {likelihood*100:.2f}%\")\n",
    "print(f\"The probability of the participant selecting two or more cups by chance is {likelihood50*100:.2f}%\")"
   ]
  },
  {
   "cell_type": "markdown",
   "id": "3cf9f0e2",
   "metadata": {},
   "source": [
    "So, having rerun the experiement with a greater number of overall cups but the same amount of milk first cups, we can see a notable drop in the probability of the particpant both identifying all the milk first cups by chance but also a substantive drop in the likelihood of the probability of the participant selecting two or more cups by chance."
   ]
  },
  {
   "cell_type": "markdown",
   "id": "0348f191",
   "metadata": {},
   "source": [
    "---\n",
    "### 3. Comparing the Two Experiments\n",
    "---"
   ]
  },
  {
   "cell_type": "markdown",
   "id": "47dbd8ff",
   "metadata": {},
   "source": [
    "The results from both experiments demonstrate a significant drop in the likelihood the participant will pick out a statistically significant number of cups correctly at random. This is especialy true both when it comes to identifying all the cups correctly (e.g 1.43% vs 0.20%) but it is also when it comes to selecting two or more milk first cups (e.g. 75.71% vs 40.61%). As the number of tea first cups increase while the number of milk first cups remain the same, it is increasingly difficult for the participant to pick out the relevant cucps at random.\n",
    "\n",
    "This is a trend that we would expect to continue the more non-milk first cups we add to the total. Consequently, the more tea first cups added, the more statistically significant it will be if a participant manages to correctly identify all four milk first cups correctly. This has notable implications for the p-value. It represents the probability of obtaining results as extreme as, or more extreme than, the observed results under the assumption that the null hypothesis is true. Consequently, as the likelihood of success decreases dramatically, the argument for a relaxed p-value to reflect this change in circumstances increases. "
   ]
  },
  {
   "cell_type": "markdown",
   "id": "3c3b2f9d",
   "metadata": {},
   "source": [
    "---\n",
    "### **Conclusion**\n",
    "---"
   ]
  },
  {
   "cell_type": "markdown",
   "id": "c76ee09f",
   "metadata": {},
   "source": [
    "The p-value used for the 12-cup experiment should be relaxed compared to the one used for the 8-cup experiment."
   ]
  },
  {
   "cell_type": "markdown",
   "id": "c1e5067f",
   "metadata": {},
   "source": [
    "# END"
   ]
  },
  {
   "cell_type": "markdown",
   "id": "f80c461f",
   "metadata": {},
   "source": []
  }
 ],
 "metadata": {
  "kernelspec": {
   "display_name": "Python 3",
   "language": "python",
   "name": "python3"
  },
  "language_info": {
   "codemirror_mode": {
    "name": "ipython",
    "version": 3
   },
   "file_extension": ".py",
   "mimetype": "text/x-python",
   "name": "python",
   "nbconvert_exporter": "python",
   "pygments_lexer": "ipython3",
   "version": "3.12.1"
  }
 },
 "nbformat": 4,
 "nbformat_minor": 5
}
