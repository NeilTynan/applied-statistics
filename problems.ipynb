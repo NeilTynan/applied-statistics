{
 "cells": [
  {
   "cell_type": "markdown",
   "id": "1a5fc7fb",
   "metadata": {},
   "source": [
    "# **Assessment Problems**\n",
    "____"
   ]
  },
  {
   "cell_type": "markdown",
   "id": "a7dcd117",
   "metadata": {},
   "source": []
  },
  {
   "cell_type": "markdown",
   "id": "715c41bd",
   "metadata": {},
   "source": [
    "\n",
    "## Problem 1: Extending the Lady Tasting Tea"
   ]
  },
  {
   "cell_type": "markdown",
   "id": "874ec867",
   "metadata": {},
   "source": [
    "### *Description of the problem*\n",
    "\n",
    "The original experiment has 8 cups: 4 tea-first and 4 milk-first. Suppose we prepare 12 cups: 8 tea-first and 4 milk-first. A participant claims they can tell which was poured first.\n",
    "\n",
    "Simulate this experiment using numpy by randomly shuffling the cups many times and calculating the probability of the participant correctly identifying all cups by chance. Compare your result with the original 8-cup experiment.\n",
    "\n",
    "In your notebook, explain your simulation process clearly, report and interpret the estimated probability, and discuss whether, based on this probability, you would consider extending or relaxing the p-value threshold compared to the original design."
   ]
  },
  {
   "cell_type": "markdown",
   "id": "7158f93b",
   "metadata": {},
   "source": [
    "Imported the standard libraries recommended by lecture video [16-notebook-overview](https://atlantictu-my.sharepoint.com/personal/ian_mcloughlin_atu_ie/_layouts/15/stream.aspx?id=%2Fpersonal%2Fian%5Fmcloughlin%5Fatu%5Fie%2FDocuments%2Fstudent%5Fshares%2Fapplied%2Dstatistics%2F16%2Dnotebook%2Doverview%2Emkv&referrer=StreamWebApp%2EWeb&referrerScenario=AddressBarCopied%2Eview%2E69b197f0%2D7e8c%2D4b99%2Dbd06%2D91bdc474d110)."
   ]
  },
  {
   "cell_type": "code",
   "execution_count": null,
   "id": "269db68b",
   "metadata": {},
   "outputs": [],
   "source": [
    "# Libraries\n",
    "\n",
    "import math # mathmatical functions\n",
    "import itertools # permutations and combinations\n",
    "import random # random selections\n",
    "import numpy as np # numerical structures and operations\n",
    "import matplotlib.pyplot as plt # plotting"
   ]
  },
  {
   "cell_type": "markdown",
   "id": "97342fba",
   "metadata": {},
   "source": [
    "\n",
    "## Problem 2: Normal Distribution"
   ]
  },
  {
   "cell_type": "markdown",
   "id": "8f13b9fb",
   "metadata": {},
   "source": [
    "\n",
    "## Problem 3: t-Tests"
   ]
  },
  {
   "cell_type": "markdown",
   "id": "3c8e7183",
   "metadata": {},
   "source": [
    "## Problem 4: ANOVA"
   ]
  }
 ],
 "metadata": {
  "kernelspec": {
   "display_name": "Python 3",
   "language": "python",
   "name": "python3"
  },
  "language_info": {
   "name": "python",
   "version": "3.12.1"
  }
 },
 "nbformat": 4,
 "nbformat_minor": 5
}
