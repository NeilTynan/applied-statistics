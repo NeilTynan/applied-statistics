{
 "cells": [
  {
   "cell_type": "markdown",
   "id": "1a5fc7fb",
   "metadata": {},
   "source": [
    "# **Assessment Problems**\n",
    "____"
   ]
  },
  {
   "cell_type": "markdown",
   "id": "a7dcd117",
   "metadata": {},
   "source": [
    "Imported the standard libraries recommended by lecture video [16-notebook-overview](https://atlantictu-my.sharepoint.com/personal/ian_mcloughlin_atu_ie/_layouts/15/stream.aspx?id=%2Fpersonal%2Fian%5Fmcloughlin%5Fatu%5Fie%2FDocuments%2Fstudent%5Fshares%2Fapplied%2Dstatistics%2F16%2Dnotebook%2Doverview%2Emkv&referrer=StreamWebApp%2EWeb&referrerScenario=AddressBarCopied%2Eview%2E69b197f0%2D7e8c%2D4b99%2Dbd06%2D91bdc474d110)."
   ]
  },
  {
   "cell_type": "code",
   "execution_count": 43,
   "id": "7a8cd16f",
   "metadata": {},
   "outputs": [],
   "source": [
    "# Libraries\n",
    "\n",
    "import math # mathmatical functions\n",
    "import itertools # permutations and combinations\n",
    "import random # random selections\n",
    "import numpy as np # numerical structures and operations\n",
    "import matplotlib.pyplot as plt # plotting"
   ]
  },
  {
   "cell_type": "markdown",
   "id": "715c41bd",
   "metadata": {},
   "source": [
    "\n",
    "## Problem 1: Extending the Lady Tasting Tea"
   ]
  },
  {
   "cell_type": "markdown",
   "id": "874ec867",
   "metadata": {},
   "source": [
    "### *Description of the problem*\n",
    "\n",
    "The original experiment has 8 cups: 4 tea-first and 4 milk-first. Suppose we prepare 12 cups: 8 tea-first and 4 milk-first. A participant claims they can tell which was poured first.\n",
    "\n",
    "Simulate this experiment using numpy by randomly shuffling the cups many times and calculating the probability of the participant correctly identifying all cups by chance. Compare your result with the original 8-cup experiment.\n",
    "\n",
    "In your notebook, explain your simulation process clearly, report and interpret the estimated probability, and discuss whether, based on this probability, you would consider extending or relaxing the p-value threshold compared to the original design."
   ]
  },
  {
   "cell_type": "code",
   "execution_count": 44,
   "id": "7f62e918",
   "metadata": {},
   "outputs": [],
   "source": [
    "# Total number of cups\n",
    "no_cups  = 12\n",
    "\n",
    "# Number of cups with tea-first\n",
    "cups_tea = 8\n",
    "\n",
    "# Number of cups with tea-first\n",
    "cups_milk = 4"
   ]
  },
  {
   "cell_type": "code",
   "execution_count": 45,
   "id": "c693ed57",
   "metadata": {},
   "outputs": [],
   "source": [
    "labels = list(range(no_cups))\n",
    "\n",
    "# Show the different ways of selecting no_cups out of cups_milk\n",
    "combs = list(itertools.combinations(labels, cups_milk))"
   ]
  },
  {
   "cell_type": "code",
   "execution_count": null,
   "id": "013e9275",
   "metadata": {},
   "outputs": [
    {
     "data": {
      "text/plain": [
       "{4, 8, 10, 11}"
      ]
     },
     "execution_count": 46,
     "metadata": {},
     "output_type": "execute_result"
    }
   ],
   "source": [
    "# Select four cups of milk to pu milk in first\n",
    "labels_milk = random.sample(labels, 4)\n",
    "\n",
    "# Sort, in place\n",
    "labels_milk.sort()\n",
    "\n",
    "# Turn labels_milk into a set\n",
    "set(labels_milk)"
   ]
  },
  {
   "cell_type": "code",
   "execution_count": null,
   "id": "eb2bb29f",
   "metadata": {},
   "outputs": [],
   "source": [
    "# Calculate the overlap between each element of combs and labels_milk\n",
    "no_overlaps = []\n",
    "\n",
    "# loop through combinations\n",
    "for comb in combs:\n",
    "    s1 = set(comb)\n",
    "    s2 = set(labels_milk)\n",
    "    # Figure out where they overlap\n",
    "    overlap = s1.intersection(s2)\n",
    "    #Append overlap to no_overlaps\n",
    "    no_overlaps.append(len(overlap))\n",
    "\n",
    "counts= np.unique(no_overlaps, return_counts=True)"
   ]
  },
  {
   "cell_type": "code",
   "execution_count": 49,
   "id": "f0609b11",
   "metadata": {},
   "outputs": [
    {
     "data": {
      "image/png": "[encoded data removed]",
      "text/plain": [
       "<Figure size 600x400 with 1 Axes>"
      ]
     },
     "metadata": {},
     "output_type": "display_data"
    }
   ],
   "source": [
    "fig, ax = plt.subplots(figsize = (6,4))\n",
    "ax.bar(counts[0],counts[1]);"
   ]
  },
  {
   "cell_type": "code",
   "execution_count": 50,
   "id": "51141c1a",
   "metadata": {},
   "outputs": [],
   "source": [
    "no_cups_og  = 8\n",
    "cups_tea_og = 4\n",
    "cups_milk = 4\n",
    "\n",
    "labels_og = list(range(no_cups_og))\n",
    "\n",
    "\n",
    "combs = list(itertools.combinations(labels_og, cups_milk))\n",
    "\n",
    "\n",
    "labels_milk = random.sample(labels_og, 4)\n",
    "labels_milk.sort()\n",
    "\n",
    "no_overlaps_og = []\n",
    "\n",
    "for comb in combs:\n",
    "    s1 = set(comb)\n",
    "    s2 = set(labels_milk)\n",
    "    overlap = s1.intersection(s2)\n",
    "    no_overlaps_og.append(len(overlap))\n",
    "\n",
    "counts= np.unique(no_overlaps_og, return_counts=True)"
   ]
  },
  {
   "cell_type": "code",
   "execution_count": 51,
   "id": "b80e3c15",
   "metadata": {},
   "outputs": [
    {
     "data": {
      "image/png": "[encoded data removed]",
      "text/plain": [
       "<Figure size 600x400 with 1 Axes>"
      ]
     },
     "metadata": {},
     "output_type": "display_data"
    }
   ],
   "source": [
    "# Chart for the orginal\n",
    "fig, ax = plt.subplots(figsize = (6,4))\n",
    "ax.bar(counts[0],counts[1]);"
   ]
  },
  {
   "cell_type": "markdown",
   "id": "47dbd8ff",
   "metadata": {},
   "source": [
    "The more you increase the number of cups the less likely it that she will pick out a statistically significant number of cups correctly at random."
   ]
  },
  {
   "cell_type": "markdown",
   "id": "97342fba",
   "metadata": {},
   "source": [
    "\n",
    "## Problem 2: Normal Distribution"
   ]
  },
  {
   "cell_type": "markdown",
   "id": "8f13b9fb",
   "metadata": {},
   "source": [
    "\n",
    "## Problem 3: t-Tests"
   ]
  },
  {
   "cell_type": "markdown",
   "id": "3c8e7183",
   "metadata": {},
   "source": [
    "## Problem 4: ANOVA"
   ]
  }
 ],
 "metadata": {
  "kernelspec": {
   "display_name": "Python 3",
   "language": "python",
   "name": "python3"
  },
  "language_info": {
   "codemirror_mode": {
    "name": "ipython",
    "version": 3
   },
   "file_extension": ".py",
   "mimetype": "text/x-python",
   "name": "python",
   "nbconvert_exporter": "python",
   "pygments_lexer": "ipython3",
   "version": "3.12.1"
  }
 },
 "nbformat": 4,
 "nbformat_minor": 5
}
